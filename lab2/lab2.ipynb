{
  "nbformat": 4,
  "nbformat_minor": 0,
  "metadata": {
    "hide_input": false,
    "kernelspec": {
      "display_name": "Python 3",
      "language": "python",
      "name": "python3"
    },
    "language_info": {
      "codemirror_mode": {
        "name": "ipython",
        "version": 3
      },
      "file_extension": ".py",
      "mimetype": "text/x-python",
      "name": "python",
      "nbconvert_exporter": "python",
      "pygments_lexer": "ipython3",
      "version": "3.7.1"
    },
    "toc": {
      "base_numbering": 1,
      "nav_menu": {},
      "number_sections": true,
      "sideBar": true,
      "skip_h1_title": false,
      "title_cell": "Table of Contents",
      "title_sidebar": "Contents",
      "toc_cell": true,
      "toc_position": {},
      "toc_section_display": true,
      "toc_window_display": false
    },
    "varInspector": {
      "cols": {
        "lenName": 16,
        "lenType": 16,
        "lenVar": 40
      },
      "kernels_config": {
        "python": {
          "delete_cmd_postfix": "",
          "delete_cmd_prefix": "del ",
          "library": "var_list.py",
          "varRefreshCmd": "print(var_dic_list())"
        },
        "r": {
          "delete_cmd_postfix": ") ",
          "delete_cmd_prefix": "rm(",
          "library": "var_list.r",
          "varRefreshCmd": "cat(var_dic_list()) "
        }
      },
      "types_to_exclude": [
        "module",
        "function",
        "builtin_function_or_method",
        "instance",
        "_Feature"
      ],
      "window_display": false
    },
    "colab": {
      "name": "Копия lab2.ipynb",
      "provenance": [],
      "collapsed_sections": [],
      "include_colab_link": true
    }
  },
  "cells": [
    {
      "cell_type": "markdown",
      "metadata": {
        "id": "view-in-github",
        "colab_type": "text"
      },
      "source": [
        "<a href=\"https://colab.research.google.com/github/deimosfox/ML-ITMO-2021/blob/main/lab2/lab2.ipynb\" target=\"_parent\"><img src=\"https://colab.research.google.com/assets/colab-badge.svg\" alt=\"Open In Colab\"/></a>"
      ]
    },
    {
      "cell_type": "code",
      "metadata": {
        "ExecuteTime": {
          "end_time": "2020-04-23T10:16:05.965275Z",
          "start_time": "2020-04-23T10:16:05.312704Z"
        },
        "id": "bZ7J0si68JdT"
      },
      "source": [
        "import pandas as pd\n",
        "import numpy as np"
      ],
      "execution_count": null,
      "outputs": []
    },
    {
      "cell_type": "markdown",
      "metadata": {
        "id": "xjvL0IIG8Jd0"
      },
      "source": [
        "## Задание 0\n"
      ]
    },
    {
      "cell_type": "markdown",
      "metadata": {
        "id": "yaSxXHvxO0qo"
      },
      "source": [
        "Для всех  заданий будем использовать обезличенные транзакционные банковские данные. Для этого считайте в переменные **tr_mcc_codes, tr_types, transactions и gender_train** из одноимённых таблиц из папки [data](https://drive.google.com/drive/folders/1YAMe7MiTxA-RSSd8Ex2p-L0Dspe6Gs4L). \n",
        "\n",
        "Для таблицы transactions используйте только первые n=1000000 строк. При чтении файлов обратите внимание на разделители внутри каждого из файлов - они могут различаться!"
      ]
    },
    {
      "cell_type": "markdown",
      "metadata": {
        "id": "oP3lX9xC8Jd8"
      },
      "source": [
        "###  Описание данных\n",
        "#### Таблица ```transactions.csv```\n",
        "##### Описание\n",
        "Таблица содержит историю транзакций клиентов банка за один год и три месяца.\n",
        "\n",
        "##### Формат данных\n",
        "\n",
        "```\n",
        "customer_id,tr_datetime,mcc_code,tr_type,amount,term_id\n",
        "111111,15 01:40:52,1111,1000,-5224,111111\n",
        "111112,15 15:18:32,3333,2000,-100,11122233\n",
        "...\n",
        "```\n",
        "##### Описание полей\n",
        "\n",
        " - ```customer_id``` — идентификатор клиента;\n",
        " - ```tr_datetime``` — день и время совершения транзакции (дни нумеруются с начала данных);\n",
        " - ```mcc_code``` — mcc-код транзакции;\n",
        " - ```tr_type``` — тип транзакции;\n",
        " - ```amount``` — сумма транзакции в условных единицах со знаком; ```+``` — начисление средств клиенту (приходная транзакция), ```-``` — списание средств (расходная транзакция);\n",
        " - ```term_id``` — идентификатор терминала;\n",
        "\n",
        "\n",
        "#### Таблица ```gender_train.csv```\n",
        "\n",
        "##### Описание\n",
        "Данная таблица содержит информацию по полу для части клиентов, для которых он известен. Для остальных клиентов пол неизвестен.\n",
        "\n",
        "##### Формат данных\n",
        "```\n",
        "customer_id,gender\n",
        "111111,0\n",
        "111112,1\n",
        "...\n",
        "```\n",
        "\n",
        "##### Описание полей\n",
        " - ```customer_id``` — идентификатор клиента;\n",
        " - ```gender``` — пол клиента;\n",
        "\n",
        "### Таблица ```tr_mcc_codes.csv```\n",
        "\n",
        "##### Описание\n",
        "Данная таблица содержит описание mcc-кодов транзакций.\n",
        "\n",
        "##### Формат данных\n",
        "```\n",
        "mcc_code;mcc_description\n",
        "1000;словесное описание mcc-кода 1000\n",
        "2000;словесное описание mcc-кода 2000\n",
        "...\n",
        "```\n",
        "\n",
        "##### Описание полей\n",
        " - ```mcc_code``` – mcc-код транзакции;\n",
        " - ```mcc_description``` — описание mcc-кода транзакции.\n",
        "\n",
        "#### Таблица ```tr_types.csv```\n",
        "\n",
        "##### Описание\n",
        "Данная таблица содержит описание типов транзакций.\n",
        "\n",
        "##### Формат данных\n",
        "```\n",
        "tr_type;tr_description\n",
        "1000;словесное описание типа транзакции 1000\n",
        "2000;словесное описание типа транзакции 2000\n",
        "...\n",
        "```\n",
        "\n",
        "##### Описание полей\n",
        " - ```tr_type``` – тип транзакции;\n",
        " - ```tr_description``` — описание типа транзакции;"
      ]
    },
    {
      "cell_type": "code",
      "metadata": {
        "colab": {
          "base_uri": "https://localhost:8080/"
        },
        "id": "0aU1m4B0m8nx",
        "outputId": "d9dd6bd9-9e9e-4005-a333-d53869a18b98"
      },
      "source": [
        "!pip install PyDrive\n",
        "import pandas as pd\n",
        "import numpy as np\n",
        "from pydrive.auth import GoogleAuth\n",
        "from pydrive.drive import GoogleDrive\n",
        "from google.colab import auth\n",
        "from oauth2client.client import GoogleCredentials\n",
        "auth.authenticate_user()\n",
        "gauth = GoogleAuth()\n",
        "gauth.credentials = GoogleCredentials.get_application_default()\n",
        "drive = GoogleDrive(gauth)\n",
        "downloaded = drive.CreateFile({'id':\"1lEpoRKczv5EvZhff9O2I-0JkdHnbe_Mq\"})\n",
        "downloaded.GetContentFile('transactions.csv')\n",
        "transactions = pd.read_csv('transactions.csv', sep = ',', nrows = 1000000)\n",
        "downloaded = drive.CreateFile({'id':\"1EP3KrATWS1I_qYdpRhYnSDl-eoBiOBQc\"})\n",
        "downloaded.GetContentFile('tr_types.csv')\n",
        "tr_types = pd.read_csv('tr_types.csv', sep = ';')\n",
        "downloaded = drive.CreateFile({'id':\"10J8RzMIhoYHiad49r-oWNMAk-V5lo3OE\"})\n",
        "downloaded.GetContentFile('tr_mcc_codes.csv')\n",
        "tr_mcc_codes = pd.read_csv('tr_mcc_codes.csv', sep = ';')\n",
        "downloaded = drive.CreateFile({'id':\"1FG1fopcmvMZ7GBaBOqQipccSeFoMUvNT\"})\n",
        "downloaded.GetContentFile('gender_train.csv')\n",
        "gender_train = pd.read_csv('gender_train.csv', sep = ',')"
      ],
      "execution_count": null,
      "outputs": [
        {
          "output_type": "stream",
          "name": "stdout",
          "text": [
            "Requirement already satisfied: PyDrive in /usr/local/lib/python3.7/dist-packages (1.3.1)\n",
            "Requirement already satisfied: oauth2client>=4.0.0 in /usr/local/lib/python3.7/dist-packages (from PyDrive) (4.1.3)\n",
            "Requirement already satisfied: google-api-python-client>=1.2 in /usr/local/lib/python3.7/dist-packages (from PyDrive) (1.12.8)\n",
            "Requirement already satisfied: PyYAML>=3.0 in /usr/local/lib/python3.7/dist-packages (from PyDrive) (3.13)\n",
            "Requirement already satisfied: google-auth-httplib2>=0.0.3 in /usr/local/lib/python3.7/dist-packages (from google-api-python-client>=1.2->PyDrive) (0.0.4)\n",
            "Requirement already satisfied: httplib2<1dev,>=0.15.0 in /usr/local/lib/python3.7/dist-packages (from google-api-python-client>=1.2->PyDrive) (0.17.4)\n",
            "Requirement already satisfied: six<2dev,>=1.13.0 in /usr/local/lib/python3.7/dist-packages (from google-api-python-client>=1.2->PyDrive) (1.15.0)\n",
            "Requirement already satisfied: google-auth>=1.16.0 in /usr/local/lib/python3.7/dist-packages (from google-api-python-client>=1.2->PyDrive) (1.35.0)\n",
            "Requirement already satisfied: google-api-core<2dev,>=1.21.0 in /usr/local/lib/python3.7/dist-packages (from google-api-python-client>=1.2->PyDrive) (1.26.3)\n",
            "Requirement already satisfied: uritemplate<4dev,>=3.0.0 in /usr/local/lib/python3.7/dist-packages (from google-api-python-client>=1.2->PyDrive) (3.0.1)\n",
            "Requirement already satisfied: packaging>=14.3 in /usr/local/lib/python3.7/dist-packages (from google-api-core<2dev,>=1.21.0->google-api-python-client>=1.2->PyDrive) (21.0)\n",
            "Requirement already satisfied: setuptools>=40.3.0 in /usr/local/lib/python3.7/dist-packages (from google-api-core<2dev,>=1.21.0->google-api-python-client>=1.2->PyDrive) (57.4.0)\n",
            "Requirement already satisfied: googleapis-common-protos<2.0dev,>=1.6.0 in /usr/local/lib/python3.7/dist-packages (from google-api-core<2dev,>=1.21.0->google-api-python-client>=1.2->PyDrive) (1.53.0)\n",
            "Requirement already satisfied: protobuf>=3.12.0 in /usr/local/lib/python3.7/dist-packages (from google-api-core<2dev,>=1.21.0->google-api-python-client>=1.2->PyDrive) (3.17.3)\n",
            "Requirement already satisfied: requests<3.0.0dev,>=2.18.0 in /usr/local/lib/python3.7/dist-packages (from google-api-core<2dev,>=1.21.0->google-api-python-client>=1.2->PyDrive) (2.23.0)\n",
            "Requirement already satisfied: pytz in /usr/local/lib/python3.7/dist-packages (from google-api-core<2dev,>=1.21.0->google-api-python-client>=1.2->PyDrive) (2018.9)\n",
            "Requirement already satisfied: rsa<5,>=3.1.4 in /usr/local/lib/python3.7/dist-packages (from google-auth>=1.16.0->google-api-python-client>=1.2->PyDrive) (4.7.2)\n",
            "Requirement already satisfied: cachetools<5.0,>=2.0.0 in /usr/local/lib/python3.7/dist-packages (from google-auth>=1.16.0->google-api-python-client>=1.2->PyDrive) (4.2.4)\n",
            "Requirement already satisfied: pyasn1-modules>=0.2.1 in /usr/local/lib/python3.7/dist-packages (from google-auth>=1.16.0->google-api-python-client>=1.2->PyDrive) (0.2.8)\n",
            "Requirement already satisfied: pyasn1>=0.1.7 in /usr/local/lib/python3.7/dist-packages (from oauth2client>=4.0.0->PyDrive) (0.4.8)\n",
            "Requirement already satisfied: pyparsing>=2.0.2 in /usr/local/lib/python3.7/dist-packages (from packaging>=14.3->google-api-core<2dev,>=1.21.0->google-api-python-client>=1.2->PyDrive) (2.4.7)\n",
            "Requirement already satisfied: idna<3,>=2.5 in /usr/local/lib/python3.7/dist-packages (from requests<3.0.0dev,>=2.18.0->google-api-core<2dev,>=1.21.0->google-api-python-client>=1.2->PyDrive) (2.10)\n",
            "Requirement already satisfied: urllib3!=1.25.0,!=1.25.1,<1.26,>=1.21.1 in /usr/local/lib/python3.7/dist-packages (from requests<3.0.0dev,>=2.18.0->google-api-core<2dev,>=1.21.0->google-api-python-client>=1.2->PyDrive) (1.24.3)\n",
            "Requirement already satisfied: chardet<4,>=3.0.2 in /usr/local/lib/python3.7/dist-packages (from requests<3.0.0dev,>=2.18.0->google-api-core<2dev,>=1.21.0->google-api-python-client>=1.2->PyDrive) (3.0.4)\n",
            "Requirement already satisfied: certifi>=2017.4.17 in /usr/local/lib/python3.7/dist-packages (from requests<3.0.0dev,>=2.18.0->google-api-core<2dev,>=1.21.0->google-api-python-client>=1.2->PyDrive) (2021.5.30)\n"
          ]
        }
      ]
    },
    {
      "cell_type": "markdown",
      "metadata": {
        "id": "04CYsBKz8JeB"
      },
      "source": [
        "\n",
        "Задания 1-4 делаются без использования merge!\n",
        "\n",
        "## Задание 1\n",
        "\n"
      ]
    },
    {
      "cell_type": "markdown",
      "metadata": {
        "id": "1hcrfwsYN_Yz"
      },
      "source": [
        "1. Для столбца tr_type датафрейма transactions выберите произвольные 1000 строк с помощью метода sample\n",
        "2. В полученной на предыдущем этапе подвыборке найдите долю транзакций (стобец tr_description в датасете tr_types), в которой содержится подстрока 'POS' или 'ATM'\n"
      ]
    },
    {
      "cell_type": "code",
      "metadata": {
        "colab": {
          "base_uri": "https://localhost:8080/"
        },
        "id": "bjuUX42EoI9s",
        "outputId": "72310bd1-9de8-4c8c-d263-aca55db016c1"
      },
      "source": [
        "smpl = transactions.sample(n=1000)\n",
        "smpl_gr=smpl.groupby(\"tr_type\").size()\n",
        "correct_types = tr_types[tr_types[\"tr_description\"].str.contains(\"АТМ|POS\")][\"tr_type\"]\n",
        "correct_types_in_smpl=correct_types[correct_types.isin(smpl_gr.index)].array\n",
        "print(smpl_gr[correct_types_in_smpl].sum()/1000)"
      ],
      "execution_count": 89,
      "outputs": [
        {
          "output_type": "stream",
          "name": "stdout",
          "text": [
            "0.613\n"
          ]
        }
      ]
    },
    {
      "cell_type": "markdown",
      "metadata": {
        "id": "fiZBDIZt8JeS"
      },
      "source": [
        "## Задание 2 \n"
      ]
    },
    {
      "cell_type": "markdown",
      "metadata": {
        "id": "FFKeBUThOCrz"
      },
      "source": [
        "1. Для столбца tr_type датафрейма transactions посчитайте частоту встречаемости всех типов транзакций tr_type в transactions.\n",
        "2. Выведите топ-10 транзакций по частоте встречаемости (вывести для них tr_description тоже)."
      ]
    },
    {
      "cell_type": "code",
      "metadata": {
        "colab": {
          "base_uri": "https://localhost:8080/"
        },
        "id": "SIduE7YMoL6r",
        "outputId": "90d1473b-e5e1-4c4f-f0d8-539080e218f6"
      },
      "source": [
        "top10 = transactions\n",
        "top10['tr_type'].value_counts()"
      ],
      "execution_count": null,
      "outputs": [
        {
          "output_type": "execute_result",
          "data": {
            "text/plain": [
              "1010    231117\n",
              "2010    151166\n",
              "7070    149006\n",
              "1110    137658\n",
              "1030    118975\n",
              "         ...  \n",
              "4061         4\n",
              "4096         4\n",
              "8146         3\n",
              "8100         2\n",
              "1510         2\n",
              "Name: tr_type, Length: 72, dtype: int64"
            ]
          },
          "metadata": {},
          "execution_count": 32
        }
      ]
    },
    {
      "cell_type": "code",
      "metadata": {
        "colab": {
          "base_uri": "https://localhost:8080/"
        },
        "id": "up0xJzpFqJnR",
        "outputId": "9cc12c31-23a9-4eae-fb4f-2bcd3f2fc1cb"
      },
      "source": [
        "top10['tr_type'].value_counts()[:10].index.tolist()\n"
      ],
      "execution_count": null,
      "outputs": [
        {
          "output_type": "execute_result",
          "data": {
            "text/plain": [
              "[1010, 2010, 7070, 1110, 1030, 2370, 7010, 7030, 7071, 1100]"
            ]
          },
          "metadata": {},
          "execution_count": 88
        }
      ]
    },
    {
      "cell_type": "markdown",
      "metadata": {
        "id": "mktm_JeA8JeX"
      },
      "source": [
        "## Задание 3\n",
        "1. В датафрейме transactions найдите клиента с максимальной суммой приходов на карту\n",
        "2. В датафрейме transactions найдите клиента с максимальной суммой расходов по карте\n",
        "3. Найдите модуль разницы для этих клиентов между суммой расходов и суммой приходов"
      ]
    },
    {
      "cell_type": "code",
      "metadata": {
        "colab": {
          "base_uri": "https://localhost:8080/"
        },
        "id": "st8-NAjQqL5k",
        "outputId": "805578b4-c9b3-4d12-92d5-a0e5abe9b456"
      },
      "source": [
        "import math\n",
        "smpl_inc = transactions.loc[transactions['amount'] > 0]\n",
        "smpl_inc = smpl_inc[['customer_id','amount']]\n",
        "smpl_outc = transactions.loc[transactions['amount'] <= 0]\n",
        "smpl_outc = smpl_outc[['customer_id','amount']]\n",
        "smpl_inc = smpl_inc.groupby('customer_id').sum()\n",
        "smpl_outc = smpl_outc.groupby('customer_id').sum()\n",
        "\n",
        "outcome = smpl_outc['amount'].min()\n",
        "income = smpl_inc['amount'].max()\n",
        "print(income, ': maximum income')\n",
        "print(outcome, ': maximum outcome')\n",
        "\n",
        "client_max_income = smpl_inc.nlargest(1, 'amount')\n",
        "client_max_outcome = smpl_outc.nsmallest(1, 'amount')\n",
        "smpl_inc = smpl_inc.sort_values(by=['amount'], ascending=False)\n",
        "smpl_outc = smpl_outc.sort_values(by=['amount'])\n",
        "\n",
        "client_max_income_id = smpl_inc.index[smpl_inc['amount'] == income].tolist()\n",
        "print(client_max_income_id, ': id of maximum income')\n",
        "client_max_outcome_id = smpl_outc.index[smpl_outc['amount'] == outcome].tolist()\n",
        "print(client_max_outcome_id, ': id of maximum outcome')\n",
        "\n",
        "int_1 = client_max_income_id[0]\n",
        "int_2 = client_max_outcome_id[0]\n",
        "smpl_grouped = transactions.groupby('customer_id').sum()\n",
        "\n",
        "diff = math.fabs(income + outcome)\n",
        "print(diff, ': difference')"
      ],
      "execution_count": null,
      "outputs": [
        {
          "output_type": "stream",
          "name": "stdout",
          "text": [
            "1248114886.810022 : maximum income\n",
            "-1249952204.789996 : maximum outcome\n",
            "[70780820] : id of maximum income\n",
            "[70780820] : id of maximum outcome\n",
            "1837317.979973793 : difference\n"
          ]
        }
      ]
    },
    {
      "cell_type": "markdown",
      "metadata": {
        "id": "BYrJ5b_E8Jee"
      },
      "source": [
        "## Задание 4\n",
        "1. Найдите среднее арифметическое и медиану по amount по всем типам транзакций из топ 10 из задания 2\n",
        "1. Найдите среднее арифметическое и медиану по amount по всем типам транзакций для клиентов из задания 3"
      ]
    },
    {
      "cell_type": "code",
      "metadata": {
        "colab": {
          "base_uri": "https://localhost:8080/"
        },
        "id": "r8FQGZzrqUY5",
        "outputId": "22227e15-7a14-48a8-9f75-e4c285799bab"
      },
      "source": [
        "top10 = transactions['tr_type'].value_counts()\n",
        "top10 = top10.sort_values(ascending=False).head(n=10)\n",
        "\n",
        "for tr_type in top10.index:\n",
        "  smpl = transactions[transactions['tr_type'] == tr_type]\n",
        "  median = smpl['amount'].median()\n",
        "  print(median, ': median for', tr_type, 'transaction type')\n",
        "  mean = smpl['amount'].mean()\n",
        "  print(mean, ': mean for', tr_type, 'transaction type')"
      ],
      "execution_count": null,
      "outputs": [
        {
          "output_type": "stream",
          "name": "stdout",
          "text": [
            "-7411.52 : median for 1010 transaction type\n",
            "-19784.748639648507 : mean for 1010 transaction type\n",
            "-44918.32 : median for 2010 transaction type\n",
            "-136077.62932505234 : mean for 2010 transaction type\n",
            "11319.42 : median for 7070 transaction type\n",
            "65569.83170018934 : mean for 7070 transaction type\n",
            "-11207.57 : median for 1110 transaction type\n",
            "-32119.330370770458 : mean for 1110 transaction type\n",
            "-2245.92 : median for 1030 transaction type\n",
            "-5320.980221811316 : mean for 1030 transaction type\n",
            "-44918.32 : median for 2370 transaction type\n",
            "-205418.24903167944 : mean for 2370 transaction type\n",
            "112295.79 : median for 7010 transaction type\n",
            "276391.7895961331 : mean for 7010 transaction type\n",
            "13951.52 : median for 7030 transaction type\n",
            "86104.33290896451 : mean for 7030 transaction type\n",
            "3593.47 : median for 7071 transaction type\n",
            "66806.82662251407 : mean for 7071 transaction type\n",
            "-10188.259999999998 : median for 1100 transaction type\n",
            "-44061.82726156657 : mean for 1100 transaction type\n"
          ]
        }
      ]
    },
    {
      "cell_type": "code",
      "metadata": {
        "colab": {
          "base_uri": "https://localhost:8080/"
        },
        "id": "xtcxcDj6qa7l",
        "outputId": "8ed6fb9b-4bee-443c-af10-940d7826d935"
      },
      "source": [
        "income_client = transactions[transactions['customer_id'] == int_1]\n",
        "outcome_client = transactions[transactions['customer_id'] == int_2]\n",
        "income_types = income_client['tr_type'].unique()\n",
        "outcome_types = outcome_client['tr_type'].unique()\n",
        "\n",
        "print('Medians and means for income client:')\n",
        "for tr_type in income_types:\n",
        "  median = income_client[income_client['tr_type'] == tr_type]['amount'].median()\n",
        "  print(median, ': median for', tr_type)\n",
        "  mean = income_client[income_client['tr_type'] == tr_type]['amount'].mean()\n",
        "  print(mean, ': mean for', tr_type)\n",
        "\n",
        "print()\n",
        "\n",
        "print('Medians and means for outcome client:')\n",
        "for tr_type in outcome_types:\n",
        "  median = outcome_client[outcome_client['tr_type'] == tr_type]['amount'].median()\n",
        "  print(median, ': median for', tr_type)\n",
        "  mean = outcome_client[outcome_client['tr_type'] == tr_type]['amount'].mean()\n",
        "  print(mean, ': mean for', tr_type)"
      ],
      "execution_count": null,
      "outputs": [
        {
          "output_type": "stream",
          "name": "stdout",
          "text": [
            "Medians and means for income client:\n",
            "8848.91 : median for 7030\n",
            "14061.955241583857 : mean for 7030\n",
            "8714.15 : median for 7070\n",
            "13848.205232082266 : mean for 7070\n",
            "12543.439999999999 : median for 7071\n",
            "18600.572007692284 : mean for 7071\n",
            "10319.985 : median for 7020\n",
            "14651.290741626804 : mean for 7020\n",
            "12992.619999999999 : median for 7031\n",
            "19210.358452380955 : mean for 7031\n",
            "-2245915.77 : median for 2370\n",
            "-2218504.987086618 : mean for 2370\n",
            "-3368873.66 : median for 2010\n",
            "-2941055.8709415505 : mean for 2010\n",
            "10028.01 : median for 6110\n",
            "17562.93173076922 : mean for 6110\n",
            "9387.93 : median for 7074\n",
            "22811.59307692308 : mean for 7074\n",
            "14306.48 : median for 7034\n",
            "14306.48 : mean for 7034\n",
            "14396.32 : median for 7040\n",
            "21538.332000000002 : mean for 7040\n",
            "-2245915.77 : median for 2330\n",
            "-2382398.344615385 : mean for 2330\n",
            "28500.67 : median for 7021\n",
            "28500.67 : mean for 7021\n",
            "\n",
            "Medians and means for outcome client:\n",
            "8848.91 : median for 7030\n",
            "14061.955241583857 : mean for 7030\n",
            "8714.15 : median for 7070\n",
            "13848.205232082266 : mean for 7070\n",
            "12543.439999999999 : median for 7071\n",
            "18600.572007692284 : mean for 7071\n",
            "10319.985 : median for 7020\n",
            "14651.290741626804 : mean for 7020\n",
            "12992.619999999999 : median for 7031\n",
            "19210.358452380955 : mean for 7031\n",
            "-2245915.77 : median for 2370\n",
            "-2218504.987086618 : mean for 2370\n",
            "-3368873.66 : median for 2010\n",
            "-2941055.8709415505 : mean for 2010\n",
            "10028.01 : median for 6110\n",
            "17562.93173076922 : mean for 6110\n",
            "9387.93 : median for 7074\n",
            "22811.59307692308 : mean for 7074\n",
            "14306.48 : median for 7034\n",
            "14306.48 : mean for 7034\n",
            "14396.32 : median for 7040\n",
            "21538.332000000002 : mean for 7040\n",
            "-2245915.77 : median for 2330\n",
            "-2382398.344615385 : mean for 2330\n",
            "28500.67 : median for 7021\n",
            "28500.67 : mean for 7021\n"
          ]
        }
      ]
    },
    {
      "cell_type": "markdown",
      "metadata": {
        "id": "BYXwM4l3QDBu"
      },
      "source": [
        "## Подготовка для заданий 5-8"
      ]
    },
    {
      "cell_type": "markdown",
      "metadata": {
        "id": "XWQzFeKcQHRe"
      },
      "source": [
        "*Из заданий 5-8 нужно выполнить минимум два любых*\n",
        "\n",
        "Соедините transactions с всеми остальными таблицами (tr_mcc_codes, tr_types, gender_train). Причём с gender_train необходимо смёрджиться с помощью left join, а с оставшимися датафреймами - через inner.\n",
        "После получения результата таблицы gender_train, tr_types, tr_mcc_codes можно удалить. В результате соединения датафреймов должно получиться 999584 строки."
      ]
    },
    {
      "cell_type": "code",
      "metadata": {
        "id": "sndJxjJ7QQf5",
        "colab": {
          "base_uri": "https://localhost:8080/"
        },
        "outputId": "de226a36-4226-4bd9-a983-baf298581da8"
      },
      "source": [
        "transactions = pd.merge(transactions, gender_train, how='left')\n",
        "transactions = pd.merge(transactions, tr_mcc_codes, how='inner')\n",
        "transactions = pd.merge(transactions, tr_types, how='inner')\n",
        "transactions.shape"
      ],
      "execution_count": null,
      "outputs": [
        {
          "output_type": "execute_result",
          "data": {
            "text/plain": [
              "(999584, 9)"
            ]
          },
          "metadata": {},
          "execution_count": 18
        }
      ]
    },
    {
      "cell_type": "markdown",
      "metadata": {
        "id": "8vrFauJ8QgmT"
      },
      "source": [
        "## Задание 5"
      ]
    },
    {
      "cell_type": "markdown",
      "metadata": {
        "id": "rOjEQ5xyQfE_"
      },
      "source": [
        "1. Определите модуль разницы между средними тратами женщин и мужчин (трата - отрицательное значение amount).\n",
        "2. Определите модуль разницы между средними поступлениями у мужчин и женщин\n",
        "\n",
        "Обратите внимание, что для вычисления модуля разности точных знаний о том, \n",
        "какой класc относится к мужчинам, а какой - к женщинам, не требуется."
      ]
    },
    {
      "cell_type": "code",
      "metadata": {
        "colab": {
          "base_uri": "https://localhost:8080/"
        },
        "id": "Tltznqd4qipu",
        "outputId": "6fb58943-b43f-435c-a113-89eca996fe69"
      },
      "source": [
        "import math\n",
        "women = transactions[(transactions['gender'] == 0) & (transactions['amount'] < 0)]\n",
        "men = transactions[(transactions['gender'] == 1) & (transactions['amount'] < 0)]\n",
        "women_mean = women['amount'].mean()\n",
        "men_mean = men['amount'].mean()\n",
        "print('module of mean (outcome):', math.fabs(math.fabs(women_mean) - math.fabs(men_mean)))"
      ],
      "execution_count": null,
      "outputs": [
        {
          "output_type": "stream",
          "name": "stdout",
          "text": [
            "module of mean (outcome): 32718.05492021877\n"
          ]
        }
      ]
    },
    {
      "cell_type": "code",
      "metadata": {
        "colab": {
          "base_uri": "https://localhost:8080/"
        },
        "id": "PNarDNpIqmQe",
        "outputId": "a3fddc4b-7b94-42b8-c4ee-82700b068ebb"
      },
      "source": [
        "import math\n",
        "women = transactions[(transactions['gender'] == 0) & (transactions['amount'] > 0)]\n",
        "men = transactions[(transactions['gender'] == 1) & (transactions['amount'] > 0)]\n",
        "women_mean = women['amount'].mean()\n",
        "men_mean = men['amount'].mean()\n",
        "print('module of mean (income):', math.fabs(math.fabs(women_mean) - math.fabs(men_mean)))"
      ],
      "execution_count": null,
      "outputs": [
        {
          "output_type": "stream",
          "name": "stdout",
          "text": [
            "module of mean (income): 63366.57104801515\n"
          ]
        }
      ]
    },
    {
      "cell_type": "markdown",
      "metadata": {
        "id": "DSHFLbepQ7G1"
      },
      "source": [
        "## Задание 6"
      ]
    },
    {
      "cell_type": "markdown",
      "metadata": {
        "id": "2EF1490bQ-17"
      },
      "source": [
        "1. По всем типам транзакций рассчитайте максимальную сумму прихода на карту (из строго положительных сумм по столбцу amount) отдельно для мужчин и женщин (назовите ее \"max_income\"). Оставьте по 10 типов транзакций для мужчин и для женщин, наименьших среди всех типов транзакций по полученным значениям \"max_income\". \n",
        "2. Выделите среди них те типы транзакций, которые встречаются одновременно и у мужчин, и у женщин"
      ]
    },
    {
      "cell_type": "code",
      "metadata": {
        "colab": {
          "base_uri": "https://localhost:8080/"
        },
        "id": "eZcaMyRdquca",
        "outputId": "3e98e8b8-d784-480a-e100-bf297fde567c"
      },
      "source": [
        "\n",
        "women_tr = pd.DataFrame([])\n",
        "men_tr = pd.DataFrame([])\n",
        "for tr_type in tr_types['tr_type']:\n",
        "  women = transactions[(transactions['tr_type'] == tr_type) & (transactions['gender'] == 0) & (transactions['amount'] > 0)]\n",
        "  men = transactions[(transactions['tr_type'] == tr_type) & (transactions['gender'] == 1) & (transactions['amount'] > 0)]\n",
        "  if women.size > 0:\n",
        "    women_index = women['amount'].idxmax()\n",
        "    women_tr = women_tr.append(transactions.loc[women_index])\n",
        "  if men.size > 0:\n",
        "    men_index = men['amount'].idxmax()\n",
        "    men_tr = men_tr.append(transactions.loc[men_index])\n",
        "women_top10 = women_tr['amount'].sort_values().head(n=10)\n",
        "men_top10 = men_tr['amount'].sort_values().head(n=10)\n",
        "\n",
        "print('top10 minimum by max_income value for women:')\n",
        "print(women_top10)\n",
        "print()\n",
        "print('top10 minimum by max_income value for men:')\n",
        "men_top10"
      ],
      "execution_count": null,
      "outputs": [
        {
          "output_type": "stream",
          "name": "stdout",
          "text": [
            "top10 minimum by max_income value for women:\n",
            "782598     1122.96\n",
            "715900     2245.92\n",
            "713566     2245.92\n",
            "752472     2335.75\n",
            "718156     5041.86\n",
            "998258     6737.75\n",
            "714837    22459.16\n",
            "321089    24839.83\n",
            "669411    44918.32\n",
            "716363    68315.82\n",
            "Name: amount, dtype: float64\n",
            "\n",
            "top10 minimum by max_income value for men:\n"
          ]
        },
        {
          "output_type": "execute_result",
          "data": {
            "text/plain": [
              "713615      2245.92\n",
              "802537      2245.92\n",
              "386903     28803.87\n",
              "518893     64682.37\n",
              "999567     79280.83\n",
              "998278     87590.72\n",
              "638141     89836.63\n",
              "714995    112295.79\n",
              "755215    113194.15\n",
              "718186    121279.45\n",
              "Name: amount, dtype: float64"
            ]
          },
          "metadata": {},
          "execution_count": 21
        }
      ]
    },
    {
      "cell_type": "code",
      "metadata": {
        "colab": {
          "base_uri": "https://localhost:8080/",
          "height": 204
        },
        "id": "VYQUwHQ3qyPI",
        "outputId": "cab10811-5cae-4628-8b90-7c28a4943ab9"
      },
      "source": [
        "women_top10 = women_tr.sort_values(by=['amount']).head(n=10)\n",
        "men_top10 = men_tr.sort_values(by=['amount']).head(n=10)\n",
        "\n",
        "women_types = women_top10['tr_type'].unique()\n",
        "men_types = men_top10['tr_type'].unique()\n",
        "same_types = pd.merge(women_top10, men_top10, on='tr_type', how='inner')\n",
        "same_types[['amount_x','amount_y','tr_type','gender_x','gender_y']]"
      ],
      "execution_count": null,
      "outputs": [
        {
          "output_type": "execute_result",
          "data": {
            "text/html": [
              "<div>\n",
              "<style scoped>\n",
              "    .dataframe tbody tr th:only-of-type {\n",
              "        vertical-align: middle;\n",
              "    }\n",
              "\n",
              "    .dataframe tbody tr th {\n",
              "        vertical-align: top;\n",
              "    }\n",
              "\n",
              "    .dataframe thead th {\n",
              "        text-align: right;\n",
              "    }\n",
              "</style>\n",
              "<table border=\"1\" class=\"dataframe\">\n",
              "  <thead>\n",
              "    <tr style=\"text-align: right;\">\n",
              "      <th></th>\n",
              "      <th>amount_x</th>\n",
              "      <th>amount_y</th>\n",
              "      <th>tr_type</th>\n",
              "      <th>gender_x</th>\n",
              "      <th>gender_y</th>\n",
              "    </tr>\n",
              "  </thead>\n",
              "  <tbody>\n",
              "    <tr>\n",
              "      <th>0</th>\n",
              "      <td>2245.92</td>\n",
              "      <td>2245.92</td>\n",
              "      <td>4110.0</td>\n",
              "      <td>0.0</td>\n",
              "      <td>1.0</td>\n",
              "    </tr>\n",
              "    <tr>\n",
              "      <th>1</th>\n",
              "      <td>2335.75</td>\n",
              "      <td>113194.15</td>\n",
              "      <td>2370.0</td>\n",
              "      <td>0.0</td>\n",
              "      <td>1.0</td>\n",
              "    </tr>\n",
              "    <tr>\n",
              "      <th>2</th>\n",
              "      <td>22459.16</td>\n",
              "      <td>112295.79</td>\n",
              "      <td>2110.0</td>\n",
              "      <td>0.0</td>\n",
              "      <td>1.0</td>\n",
              "    </tr>\n",
              "    <tr>\n",
              "      <th>3</th>\n",
              "      <td>24839.83</td>\n",
              "      <td>28803.87</td>\n",
              "      <td>1010.0</td>\n",
              "      <td>0.0</td>\n",
              "      <td>1.0</td>\n",
              "    </tr>\n",
              "    <tr>\n",
              "      <th>4</th>\n",
              "      <td>44918.32</td>\n",
              "      <td>89836.63</td>\n",
              "      <td>2010.0</td>\n",
              "      <td>0.0</td>\n",
              "      <td>1.0</td>\n",
              "    </tr>\n",
              "  </tbody>\n",
              "</table>\n",
              "</div>"
            ],
            "text/plain": [
              "   amount_x   amount_y  tr_type  gender_x  gender_y\n",
              "0   2245.92    2245.92   4110.0       0.0       1.0\n",
              "1   2335.75  113194.15   2370.0       0.0       1.0\n",
              "2  22459.16  112295.79   2110.0       0.0       1.0\n",
              "3  24839.83   28803.87   1010.0       0.0       1.0\n",
              "4  44918.32   89836.63   2010.0       0.0       1.0"
            ]
          },
          "metadata": {},
          "execution_count": 22
        }
      ]
    },
    {
      "cell_type": "code",
      "metadata": {
        "colab": {
          "base_uri": "https://localhost:8080/",
          "height": 204
        },
        "id": "LqApHXXjq0wO",
        "outputId": "05e658cb-070c-4f0c-ddac-041f5192ed15"
      },
      "source": [
        "same_tr = same_types['tr_type'].unique()\n",
        "res_tr = pd.DataFrame([])\n",
        "\n",
        "for tr_type in same_tr:\n",
        "  tr = transactions[transactions['tr_type'] == tr_type]\n",
        "  res_tr = res_tr.append(tr)\n",
        "\n",
        "#res_tr['mcc_code'].value_counts()\n",
        "#res_tr = res_tr.sort_values(by = ['mcc_code'], ascending=False).head(n=5)\n",
        "res_tr.groupby('mcc_code')\n",
        "res_tr.head(n=5)"
      ],
      "execution_count": null,
      "outputs": [
        {
          "output_type": "execute_result",
          "data": {
            "text/html": [
              "<div>\n",
              "<style scoped>\n",
              "    .dataframe tbody tr th:only-of-type {\n",
              "        vertical-align: middle;\n",
              "    }\n",
              "\n",
              "    .dataframe tbody tr th {\n",
              "        vertical-align: top;\n",
              "    }\n",
              "\n",
              "    .dataframe thead th {\n",
              "        text-align: right;\n",
              "    }\n",
              "</style>\n",
              "<table border=\"1\" class=\"dataframe\">\n",
              "  <thead>\n",
              "    <tr style=\"text-align: right;\">\n",
              "      <th></th>\n",
              "      <th>customer_id</th>\n",
              "      <th>tr_datetime</th>\n",
              "      <th>mcc_code</th>\n",
              "      <th>tr_type</th>\n",
              "      <th>amount</th>\n",
              "      <th>term_id</th>\n",
              "      <th>gender</th>\n",
              "      <th>mcc_description</th>\n",
              "      <th>tr_description</th>\n",
              "    </tr>\n",
              "  </thead>\n",
              "  <tbody>\n",
              "    <tr>\n",
              "      <th>713158</th>\n",
              "      <td>1585299</td>\n",
              "      <td>359 17:54:09</td>\n",
              "      <td>6011</td>\n",
              "      <td>4110</td>\n",
              "      <td>-2245.92</td>\n",
              "      <td>9428222</td>\n",
              "      <td>1.0</td>\n",
              "      <td>Финансовые институты — снятие наличности автом...</td>\n",
              "      <td>Плата за получение наличных в АТМ. Россия</td>\n",
              "    </tr>\n",
              "    <tr>\n",
              "      <th>713159</th>\n",
              "      <td>1585299</td>\n",
              "      <td>359 17:55:27</td>\n",
              "      <td>6011</td>\n",
              "      <td>4110</td>\n",
              "      <td>-2245.92</td>\n",
              "      <td>9428222</td>\n",
              "      <td>1.0</td>\n",
              "      <td>Финансовые институты — снятие наличности автом...</td>\n",
              "      <td>Плата за получение наличных в АТМ. Россия</td>\n",
              "    </tr>\n",
              "    <tr>\n",
              "      <th>713160</th>\n",
              "      <td>1585299</td>\n",
              "      <td>362 15:59:40</td>\n",
              "      <td>6011</td>\n",
              "      <td>4110</td>\n",
              "      <td>-2245.92</td>\n",
              "      <td>00004936</td>\n",
              "      <td>1.0</td>\n",
              "      <td>Финансовые институты — снятие наличности автом...</td>\n",
              "      <td>Плата за получение наличных в АТМ. Россия</td>\n",
              "    </tr>\n",
              "    <tr>\n",
              "      <th>713161</th>\n",
              "      <td>64627292</td>\n",
              "      <td>125 10:48:14</td>\n",
              "      <td>6011</td>\n",
              "      <td>4110</td>\n",
              "      <td>-2245.92</td>\n",
              "      <td>NaN</td>\n",
              "      <td>NaN</td>\n",
              "      <td>Финансовые институты — снятие наличности автом...</td>\n",
              "      <td>Плата за получение наличных в АТМ. Россия</td>\n",
              "    </tr>\n",
              "    <tr>\n",
              "      <th>713162</th>\n",
              "      <td>64627292</td>\n",
              "      <td>451 09:28:24</td>\n",
              "      <td>6011</td>\n",
              "      <td>4110</td>\n",
              "      <td>-2245.92</td>\n",
              "      <td>403540</td>\n",
              "      <td>NaN</td>\n",
              "      <td>Финансовые институты — снятие наличности автом...</td>\n",
              "      <td>Плата за получение наличных в АТМ. Россия</td>\n",
              "    </tr>\n",
              "  </tbody>\n",
              "</table>\n",
              "</div>"
            ],
            "text/plain": [
              "        customer_id  ...                             tr_description\n",
              "713158      1585299  ...  Плата за получение наличных в АТМ. Россия\n",
              "713159      1585299  ...  Плата за получение наличных в АТМ. Россия\n",
              "713160      1585299  ...  Плата за получение наличных в АТМ. Россия\n",
              "713161     64627292  ...  Плата за получение наличных в АТМ. Россия\n",
              "713162     64627292  ...  Плата за получение наличных в АТМ. Россия\n",
              "\n",
              "[5 rows x 9 columns]"
            ]
          },
          "metadata": {},
          "execution_count": 23
        }
      ]
    },
    {
      "cell_type": "markdown",
      "metadata": {
        "id": "W-LaVwRdR3UB"
      },
      "source": [
        "## Задание 7"
      ]
    },
    {
      "cell_type": "markdown",
      "metadata": {
        "id": "rhI4NOciR7e0"
      },
      "source": [
        "1. Найдите суммы затрат по каждой категории (mcc) для мужчин и для женщин. \n",
        "2. Найдите топ 10 категорий с самыми большими относительными модулями разности в тратах для разных полов (в ответе должны присутствовать описания mcc кодов)."
      ]
    },
    {
      "cell_type": "markdown",
      "metadata": {
        "id": "aGaPkQkVSvl8"
      },
      "source": [
        "## Задание 8"
      ]
    },
    {
      "cell_type": "markdown",
      "metadata": {
        "id": "T7Ox1qAXTHQl"
      },
      "source": [
        "1. Из поля tr_datetime выделите час tr_hour, в который произошла транзакция, как первые 2 цифры до \":\". (\\**)\n",
        "2. Посчитайте количество транзакций с amount<0 в ночное время для мужчин и женщин. Ночное время - это примерно 00-06 часов. "
      ]
    }
  ]
}